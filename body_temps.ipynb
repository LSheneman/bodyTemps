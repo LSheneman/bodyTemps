{
 "cells": [
  {
   "cell_type": "markdown",
   "metadata": {},
   "source": [
    "# What is the True Normal Human Body Temperature? \n",
    "\n",
    "#### Background\n",
    "\n",
    "The mean normal body temperature was held to be 37$^{\\circ}$C or 98.6$^{\\circ}$F for more than 120 years since it was first conceptualized and reported by Carl Wunderlich in a famous 1868 book. But, is this value statistically correct?"
   ]
  },
  {
   "cell_type": "code",
   "execution_count": 1,
   "metadata": {},
   "outputs": [],
   "source": [
    "import pandas as pd\n",
    "import matplotlib as plt\n",
    "import numpy as np\n",
    "\n",
    "df = pd.read_csv('data/human_body_temperature.csv')\n",
    "\n",
    "import seaborn as sns\n",
    "sns.set()"
   ]
  },
  {
   "cell_type": "markdown",
   "metadata": {},
   "source": [
    "## Is the distribution of body temperatures normal?"
   ]
  },
  {
   "cell_type": "code",
   "execution_count": null,
   "metadata": {},
   "outputs": [],
   "source": [
    "sns.distplot(df['temperature'])"
   ]
  },
  {
   "cell_type": "code",
   "execution_count": null,
   "metadata": {},
   "outputs": [],
   "source": [
    "sns.distplot(df['temperature'],\n",
    "             hist_kws=dict(cumulative=True),\n",
    "             kde_kws=dict(cumulative=True))"
   ]
  },
  {
   "cell_type": "code",
   "execution_count": null,
   "metadata": {},
   "outputs": [],
   "source": [
    "from scipy import stats\n",
    "\n",
    "k2, p = stats.normaltest(df['temperature'])\n",
    "print(\"p = {:g}\".format(p))\n",
    "\n",
    "print(\"The data is normally distributed!\")"
   ]
  },
  {
   "cell_type": "markdown",
   "metadata": {},
   "source": [
    "## Is the sample size large? Are the observations independent?\n",
    "\n",
    "##### Yes, sample size > 20 therefore it is large enough. Also the observations were from different individuals and thus independant"
   ]
  },
  {
   "cell_type": "markdown",
   "metadata": {},
   "source": [
    "## Is the true population mean really 98.6 degrees F?\n",
    "\n",
    "### The hypothesis is it occured by random chance  and the null hypothesis is the true mean is 98.6."
   ]
  },
  {
   "cell_type": "code",
   "execution_count": null,
   "metadata": {},
   "outputs": [],
   "source": [
    "mu = 98.6\n",
    "mean = df['temperature'].mean()\n",
    "temp_shifted = df['temperature'] - mean + mu"
   ]
  },
  {
   "cell_type": "markdown",
   "metadata": {},
   "source": [
    "### The sample mean is 5.45 standard error units below the assumed population mean of 98.6 F"
   ]
  },
  {
   "cell_type": "code",
   "execution_count": null,
   "metadata": {},
   "outputs": [],
   "source": [
    "def t_stat(data, mu=98.6):\n",
    "    \"\"\"Calculate t-statistic\"\"\"\n",
    "    return (np.mean(data) - mu) / (np.std(data) / np.sqrt(len(data)))\n",
    "\n",
    "t_obs = t_stat(df['temperature'], mu)\n",
    "\n",
    "def bootstrap_replicate_1d(data, func):\n",
    "    \"\"\"Draw one bootstrap replicate for a 1-d array of data\"\"\"\n",
    "    return func(np.random.choice(data, size=len(data)))\n",
    "\n",
    "def draw_bs_reps(data, func, size=1):\n",
    "    \"\"\"Draw (size) number of bootstrap replicates.\"\"\"\n",
    "    bs_replicates = np.empty(size)\n",
    "    for i in range(size):\n",
    "        bs_replicates[i] = bootstrap_replicate_1d(data, func)\n",
    "    return bs_replicates\n",
    "\n",
    "\n",
    "bs_t_reps = draw_bs_reps(temp_shifted, t_stat, size=10000)\n",
    "\n",
    "\n",
    "# Compute the p-value\n",
    "p_t_value = np.sum(np.abs(bs_t_reps) >= np.abs(t_obs)) / len(bs_t_reps)\n",
    "\n",
    "\n",
    "print('t-statistic for the observations:' + str(t_obs))\n",
    "print('p-value: {:.2e}'.format(p_t_value))"
   ]
  },
  {
   "cell_type": "markdown",
   "metadata": {},
   "source": [
    "### We must reject the null hypothesis the true population mean is not 98.6"
   ]
  },
  {
   "cell_type": "markdown",
   "metadata": {},
   "source": [
    "### Since there is only one set of data a one sample test is approitate. "
   ]
  },
  {
   "cell_type": "code",
   "execution_count": null,
   "metadata": {},
   "outputs": [],
   "source": [
    "# Define z-statistic function\n",
    "def z_stat(data, mu=98.6, sigma=0.7303577789050377):\n",
    "    \"\"\"Calculate z-statistic\"\"\"\n",
    "    return (np.mean(data) - mu) / (sigma / np.sqrt(len(data)))\n",
    "\n",
    "z_obs = z_stat(df['temperature'], mu) \n",
    "\n",
    "bs_z_reps = draw_bs_reps(temp_shifted, z_stat, size=10000)\n",
    "\n",
    "p_z_value = np.sum(np.abs(bs_z_reps) >= np.abs(z_obs)) / len(bs_z_reps)\n",
    "\n",
    "\n",
    "print('z-statistic for the observations: ' + str(z_obs))\n",
    "print('p-value: {:.2e}'.format(p_z_value))"
   ]
  },
  {
   "cell_type": "markdown",
   "metadata": {},
   "source": [
    "### Both the z and t test produce the same results."
   ]
  },
  {
   "cell_type": "markdown",
   "metadata": {},
   "source": [
    "## Does this hold for a small sample size of 10?"
   ]
  },
  {
   "cell_type": "code",
   "execution_count": null,
   "metadata": {},
   "outputs": [],
   "source": [
    "sample = np.random.choice(df['temperature'], size=10)\n",
    "\n",
    "mean = sample.mean()\n",
    "temp_shifted = sample - mean + mu\n",
    "\n",
    "z_obs = z_stat(sample) \n",
    "\n",
    "bs_z_reps = draw_bs_reps(temp_shifted, z_stat, size=10000)\n",
    "\n",
    "p_z_value = np.sum(np.abs(bs_z_reps) >= np.abs(z_obs)) / len(bs_z_reps)\n",
    "\n",
    "\n",
    "print('z-statistic for the observations: ' + str(z_obs))\n",
    "print('p-value: {:.2e}'.format(p_z_value))"
   ]
  },
  {
   "cell_type": "markdown",
   "metadata": {},
   "source": [
    "### We still reject the null hypothesis."
   ]
  },
  {
   "cell_type": "markdown",
   "metadata": {},
   "source": [
    "## When is someone's temperature to be \"abnormal\""
   ]
  },
  {
   "cell_type": "code",
   "execution_count": null,
   "metadata": {},
   "outputs": [],
   "source": [
    "# Margin of Error\n",
    "z_95 = 1.96 # z-value corresponding to 95% confidence interval\n",
    "mean = df['temperature'].mean()\n",
    "margin_e = z_95 * (df['temperature'].std()/len(df['temperature']))\n",
    "print('The margin of error on the mean temperature is: ' + str(margin_e) + 'deg. F')\n",
    "\n",
    "\n",
    "# 95% Confidence Interval on the mean \n",
    "conf_int = np.percentile(df['temperature'], [2.5, 97.5])\n",
    "print('95% of the data fall between: ' + str(conf_int[0]) + ' - ' + str(conf_int[1]) + 'deg. F')\n",
    "\n",
    "\n",
    "# 95% Prediction Interval\n",
    "pred_int = z_95 * df['temperature'].std()/np.sqrt(1)  \n",
    "print('95% prediction interval ' + str(mean - pred_int) + ' - ' + str(mean + pred_int )+ 'deg. F')"
   ]
  },
  {
   "cell_type": "markdown",
   "metadata": {},
   "source": [
    "### Any observation outside of the predicition interval is consider adnormal."
   ]
  },
  {
   "cell_type": "markdown",
   "metadata": {},
   "source": [
    "## Do male and females have a significant difference in normal temperature?"
   ]
  },
  {
   "cell_type": "code",
   "execution_count": null,
   "metadata": {},
   "outputs": [],
   "source": [
    "# Observations by gender.\n",
    "females = df[df['gender'] == 'F']\n",
    "males = df[df['gender'] == 'M']\n",
    "\n",
    "# Descriptive statistics \n",
    "print('Females')\n",
    "print(females['temperature'].describe())\n",
    "print(' ')\n",
    "print('Males')\n",
    "print(males['temperature'].describe())\n",
    "f_mean = np.mean(females['temperature'])\n",
    "m_mean = np.mean(males['temperature'])"
   ]
  },
  {
   "cell_type": "markdown",
   "metadata": {},
   "source": [
    "## Null hypothesis: The distributions of temperatures are identical."
   ]
  },
  {
   "cell_type": "code",
   "execution_count": null,
   "metadata": {},
   "outputs": [],
   "source": [
    "# Define test statistic \n",
    "def diff_of_means(data_1, data_2):\n",
    "    \"\"\"Difference in means of two arrays\"\"\"\n",
    "    return np.mean(data_1) - np.mean(data_2)\n",
    "\n",
    "\n",
    "# Compute test statistic for observed data\n",
    "diff_obs = diff_of_means(females['temperature'], males['temperature'])\n",
    "\n",
    "\n",
    "# Draw permutation replicates\n",
    "perm_reps = np.empty(10000)\n",
    "for i in range(len(perm_replicates)): \n",
    "    # Permute the data\n",
    "    both = np.concatenate((females['temperature'], males['temperature']))\n",
    "    both_perm = np.random.permutation(both)\n",
    "    perm_females = both_perm[:len(females)]\n",
    "    perm_males = both_perm[len(females):]\n",
    "    \n",
    "    #Draw replicates\n",
    "    perm_reps[i] = diff_of_means(perm_females, perm_males)\n",
    "\n",
    "\n",
    "# Compute the p-value\n",
    "p_value = np.sum(abs(perm_replicates) >= abs(diff_obs)) / len(perm_replicates)\n",
    "\n",
    "print('Difference: ' + str(diff_obs) + 'deg. F' )\n",
    "print('p-value: ' + str(p_value))"
   ]
  },
  {
   "cell_type": "code",
   "execution_count": null,
   "metadata": {},
   "outputs": [],
   "source": []
  }
 ],
 "metadata": {
  "kernelspec": {
   "display_name": "Python [conda env:springboard]",
   "language": "python",
   "name": "conda-env-springboard-py"
  },
  "language_info": {
   "codemirror_mode": {
    "name": "ipython",
    "version": 2
   },
   "file_extension": ".py",
   "mimetype": "text/x-python",
   "name": "python",
   "nbconvert_exporter": "python",
   "pygments_lexer": "ipython2",
   "version": "2.7.15"
  }
 },
 "nbformat": 4,
 "nbformat_minor": 1
}
